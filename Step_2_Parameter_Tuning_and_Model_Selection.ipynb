{
  "nbformat": 4,
  "nbformat_minor": 0,
  "metadata": {
    "colab": {
      "name": "Step 2 - Parameter Tuning and Model Selection",
      "provenance": [],
      "collapsed_sections": [],
      "include_colab_link": true
    },
    "kernelspec": {
      "display_name": "Python 3",
      "language": "python",
      "name": "python3"
    },
    "language_info": {
      "codemirror_mode": {
        "name": "ipython",
        "version": 3
      },
      "file_extension": ".py",
      "mimetype": "text/x-python",
      "name": "python",
      "nbconvert_exporter": "python",
      "pygments_lexer": "ipython3",
      "version": "3.7.4"
    }
  },
  "cells": [
    {
      "cell_type": "markdown",
      "metadata": {
        "id": "view-in-github",
        "colab_type": "text"
      },
      "source": [
        "<a href=\"https://colab.research.google.com/github/MateusGheorghe/LAMP/blob/master/Step_2_Parameter_Tuning_and_Model_Selection.ipynb\" target=\"_parent\"><img src=\"https://colab.research.google.com/assets/colab-badge.svg\" alt=\"Open In Colab\"/></a>"
      ]
    },
    {
      "cell_type": "code",
      "metadata": {
        "colab_type": "code",
        "id": "UkXy5yk1KorI",
        "colab": {}
      },
      "source": [
        "from __future__ import absolute_import, division, print_function, unicode_literals"
      ],
      "execution_count": 0,
      "outputs": []
    },
    {
      "cell_type": "code",
      "metadata": {
        "colab_type": "code",
        "id": "NqrRNF_5GrHW",
        "colab": {}
      },
      "source": [
        "# TensorFlow e tf.keras\n",
        "import tensorflow as tf"
      ],
      "execution_count": 0,
      "outputs": []
    },
    {
      "cell_type": "code",
      "metadata": {
        "colab_type": "code",
        "id": "i3ZY_4RZGrLl",
        "colab": {}
      },
      "source": [
        "# Librariesauxiliares\n",
        "import itertools\n",
        "import numpy as np\n",
        "import matplotlib.pyplot as plt \n",
        "import seaborn as sns\n",
        "import sklearn\n",
        "import pandas as pd\n",
        "import time\n",
        "sns.set()\n",
        "import plotly.express as px\n",
        "from sklearn import preprocessing\n",
        "#Model Selection\n",
        "from sklearn.model_selection import StratifiedKFold, RepeatedStratifiedKFold, cross_validate, cross_val_score, RandomizedSearchCV, GridSearchCV\n",
        "from sklearn import metrics\n",
        "import pickle\n",
        "#MODELS\n",
        "from sklearn.linear_model import LogisticRegression\n",
        "from sklearn.svm import SVC\n",
        "from sklearn.neighbors import KNeighborsClassifier\n",
        "from sklearn.naive_bayes import GaussianNB\n",
        "from sklearn.naive_bayes import ComplementNB\n",
        "from sklearn.tree import DecisionTreeClassifier\n",
        "from sklearn.ensemble import BaggingClassifier\n",
        "from sklearn.ensemble import RandomForestClassifier\n",
        "from sklearn.ensemble import AdaBoostClassifier\n",
        "from sklearn.ensemble import GradientBoostingClassifier\n",
        "from sklearn.ensemble import VotingClassifier"
      ],
      "execution_count": 0,
      "outputs": []
    },
    {
      "cell_type": "code",
      "metadata": {
        "id": "BQx7Da05qsBc",
        "colab_type": "code",
        "colab": {}
      },
      "source": [
        "from pylab import rcParams\n",
        "rcParams['figure.figsize'] = 10, 10\n",
        "import matplotlib.pyplot as plt\n",
        "SMALL_SIZE = 22\n",
        "MEDIUM_SIZE = 42\n",
        "BIGGER_SIZE = 62\n",
        "plt.rc('font', size=SMALL_SIZE)          # controls default text sizes\n",
        "plt.rc('axes', titlesize=SMALL_SIZE)     # fontsize of the axes title\n",
        "plt.rc('axes', labelsize=MEDIUM_SIZE)    # fontsize of the x and y labels\n",
        "plt.rc('xtick', labelsize=SMALL_SIZE)    # fontsize of the tick labels\n",
        "plt.rc('ytick', labelsize=SMALL_SIZE)    # fontsize of the tick labels\n",
        "plt.rc('legend', fontsize=SMALL_SIZE)    # legend fontsize\n",
        "plt.rc('figure', titlesize=BIGGER_SIZE)  # fontsize of the figure title"
      ],
      "execution_count": 0,
      "outputs": []
    },
    {
      "cell_type": "code",
      "metadata": {
        "colab_type": "code",
        "id": "Afdn1kRmGrO3",
        "outputId": "d2dbad0c-8006-44dd-bfa1-e897acf95ec6",
        "colab": {
          "base_uri": "https://localhost:8080/",
          "height": 51
        }
      },
      "source": [
        "print('The tensorflow version is {}.'.format(tf.__version__))\n",
        "print('The scikit-learn version is {}.'.format(sklearn.__version__))"
      ],
      "execution_count": 52,
      "outputs": [
        {
          "output_type": "stream",
          "text": [
            "The tensorflow version is 2.1.0.\n",
            "The scikit-learn version is 0.22.1.\n"
          ],
          "name": "stdout"
        }
      ]
    },
    {
      "cell_type": "code",
      "metadata": {
        "id": "zd8SGmR7vSal",
        "colab_type": "code",
        "colab": {}
      },
      "source": [
        "def tic():\n",
        "    #Homemade version of matlab tic and toc functions\n",
        "    import time\n",
        "    global startTime_for_tictoc\n",
        "    startTime_for_tictoc = time.time()\n",
        "\n",
        "def toc():\n",
        "    import time\n",
        "    if 'startTime_for_tictoc' in globals():\n",
        "        print ('\\nElapsed time is ')\n",
        "        print (str(time.time() - startTime_for_tictoc))\n",
        "        print('seconds.\\n')\n",
        "    else:\n",
        "        print ('\\nToc: start time not set\\n')"
      ],
      "execution_count": 0,
      "outputs": []
    },
    {
      "cell_type": "code",
      "metadata": {
        "id": "PqPCCX8XvSao",
        "colab_type": "code",
        "colab": {}
      },
      "source": [
        "def TIC():\n",
        "    #Homemade version of matlab tic and toc functions\n",
        "    import time\n",
        "    global startTime_for_tictoc1\n",
        "    startTime_for_tictoc1 = time.time()\n",
        "\n",
        "def TOC():\n",
        "    import time\n",
        "    if 'startTime_for_tictoc' in globals():\n",
        "        print ('\\nElapsed time is ')\n",
        "        print (str(time.time() - startTime_for_tictoc1))\n",
        "        print('seconds.\\n')\n",
        "    else:\n",
        "        print ('\\nToc: start time not set\\n')"
      ],
      "execution_count": 0,
      "outputs": []
    },
    {
      "cell_type": "code",
      "metadata": {
        "id": "XQYrEhpq1xpF",
        "colab_type": "code",
        "colab": {}
      },
      "source": [
        "from numpy.random import seed\n",
        "seed(1)\n",
        "tf.random.set_seed(2)"
      ],
      "execution_count": 0,
      "outputs": []
    },
    {
      "cell_type": "code",
      "metadata": {
        "id": "fKZojliXvSaq",
        "colab_type": "code",
        "colab": {}
      },
      "source": [
        "TIC()\n",
        "T0 = time.time()"
      ],
      "execution_count": 0,
      "outputs": []
    },
    {
      "cell_type": "markdown",
      "metadata": {
        "id": "NTdfj6fay-NT",
        "colab_type": "text"
      },
      "source": [
        "* POSITION = 0 -> r0 / POSITION = 1-> r1\n",
        "* N_CLAS -> Number of classes in the dataset loaded (Unitl April 4th: ND, CH, SC, CR, and CQ)\n",
        "* seed -> seed used in the hyperparameter tuning and model selection\n",
        "* SAVE-> 0 do not save / 1 do save"
      ]
    },
    {
      "cell_type": "code",
      "metadata": {
        "id": "BBGMKsz1y79X",
        "colab_type": "code",
        "colab": {}
      },
      "source": [
        "POSITION=0 \n",
        "N_CLAS=5\n",
        "seed = 8\n",
        "SAVE = 1"
      ],
      "execution_count": 0,
      "outputs": []
    },
    {
      "cell_type": "code",
      "metadata": {
        "id": "phgXy9IxvSas",
        "colab_type": "code",
        "colab": {}
      },
      "source": [
        "if POSITION==0:\n",
        "  with open('Dataset_r0.pickle', 'rb') as filename:\n",
        "    Dataset = pickle.load(filename)\n",
        "elif POSITION==1:\n",
        "  with open('Dataset_r1.pickle', 'rb') as filename:\n",
        "    Dataset = pickle.load(filename)"
      ],
      "execution_count": 0,
      "outputs": []
    },
    {
      "cell_type": "code",
      "metadata": {
        "id": "ZRP601Xh1RZv",
        "colab_type": "code",
        "outputId": "3231563d-ef5f-4f02-e7c8-884ad04e5a25",
        "colab": {
          "base_uri": "https://localhost:8080/",
          "height": 419
        }
      },
      "source": [
        "Dataset"
      ],
      "execution_count": 59,
      "outputs": [
        {
          "output_type": "execute_result",
          "data": {
            "text/plain": [
              "          PC0       PC1       PC2       PC3  Label Class  Severity  \\\n",
              "0   -0.462714  0.467353  1.179220 -1.147022      1    CH  0.200000   \n",
              "1   -0.473318  0.445630  1.166120 -1.105849      1    CH  0.205000   \n",
              "2   -0.483762  0.423800  1.152240 -1.064692      1    CH  0.210000   \n",
              "3   -0.493919  0.401869  1.137749 -1.023868      1    CH  0.215000   \n",
              "4   -0.486881  0.421357  1.133990 -1.059043      1    CH  0.220000   \n",
              "..        ...       ...       ...       ...    ...   ...       ...   \n",
              "441  1.940860 -1.829271  2.009975  1.002267      0    ND  0.099444   \n",
              "442  1.939265 -1.842192  2.047630  1.019873      4    CQ  0.105278   \n",
              "443  1.937643 -1.854460  2.084513  1.037541      4    CQ  0.111111   \n",
              "444  1.935907 -1.866127  2.120780  1.054449      4    CQ  0.116944   \n",
              "445  1.950978 -1.517952  1.243683  0.629274      0    ND  0.000000   \n",
              "\n",
              "     Severity Norm Reg Division Cat Reg Division Num  \n",
              "0         0.243243              low                0  \n",
              "1         0.249324              low                0  \n",
              "2         0.255405              low                0  \n",
              "3         0.261486              low                0  \n",
              "4         0.267568              low                0  \n",
              "..             ...              ...              ...  \n",
              "441       0.120946              low                0  \n",
              "442       0.128041              low                0  \n",
              "443       0.135135              low                0  \n",
              "444       0.142230              low                0  \n",
              "445       0.000000              low                0  \n",
              "\n",
              "[446 rows x 10 columns]"
            ],
            "text/html": [
              "<div>\n",
              "<style scoped>\n",
              "    .dataframe tbody tr th:only-of-type {\n",
              "        vertical-align: middle;\n",
              "    }\n",
              "\n",
              "    .dataframe tbody tr th {\n",
              "        vertical-align: top;\n",
              "    }\n",
              "\n",
              "    .dataframe thead th {\n",
              "        text-align: right;\n",
              "    }\n",
              "</style>\n",
              "<table border=\"1\" class=\"dataframe\">\n",
              "  <thead>\n",
              "    <tr style=\"text-align: right;\">\n",
              "      <th></th>\n",
              "      <th>PC0</th>\n",
              "      <th>PC1</th>\n",
              "      <th>PC2</th>\n",
              "      <th>PC3</th>\n",
              "      <th>Label</th>\n",
              "      <th>Class</th>\n",
              "      <th>Severity</th>\n",
              "      <th>Severity Norm</th>\n",
              "      <th>Reg Division Cat</th>\n",
              "      <th>Reg Division Num</th>\n",
              "    </tr>\n",
              "  </thead>\n",
              "  <tbody>\n",
              "    <tr>\n",
              "      <th>0</th>\n",
              "      <td>-0.462714</td>\n",
              "      <td>0.467353</td>\n",
              "      <td>1.179220</td>\n",
              "      <td>-1.147022</td>\n",
              "      <td>1</td>\n",
              "      <td>CH</td>\n",
              "      <td>0.200000</td>\n",
              "      <td>0.243243</td>\n",
              "      <td>low</td>\n",
              "      <td>0</td>\n",
              "    </tr>\n",
              "    <tr>\n",
              "      <th>1</th>\n",
              "      <td>-0.473318</td>\n",
              "      <td>0.445630</td>\n",
              "      <td>1.166120</td>\n",
              "      <td>-1.105849</td>\n",
              "      <td>1</td>\n",
              "      <td>CH</td>\n",
              "      <td>0.205000</td>\n",
              "      <td>0.249324</td>\n",
              "      <td>low</td>\n",
              "      <td>0</td>\n",
              "    </tr>\n",
              "    <tr>\n",
              "      <th>2</th>\n",
              "      <td>-0.483762</td>\n",
              "      <td>0.423800</td>\n",
              "      <td>1.152240</td>\n",
              "      <td>-1.064692</td>\n",
              "      <td>1</td>\n",
              "      <td>CH</td>\n",
              "      <td>0.210000</td>\n",
              "      <td>0.255405</td>\n",
              "      <td>low</td>\n",
              "      <td>0</td>\n",
              "    </tr>\n",
              "    <tr>\n",
              "      <th>3</th>\n",
              "      <td>-0.493919</td>\n",
              "      <td>0.401869</td>\n",
              "      <td>1.137749</td>\n",
              "      <td>-1.023868</td>\n",
              "      <td>1</td>\n",
              "      <td>CH</td>\n",
              "      <td>0.215000</td>\n",
              "      <td>0.261486</td>\n",
              "      <td>low</td>\n",
              "      <td>0</td>\n",
              "    </tr>\n",
              "    <tr>\n",
              "      <th>4</th>\n",
              "      <td>-0.486881</td>\n",
              "      <td>0.421357</td>\n",
              "      <td>1.133990</td>\n",
              "      <td>-1.059043</td>\n",
              "      <td>1</td>\n",
              "      <td>CH</td>\n",
              "      <td>0.220000</td>\n",
              "      <td>0.267568</td>\n",
              "      <td>low</td>\n",
              "      <td>0</td>\n",
              "    </tr>\n",
              "    <tr>\n",
              "      <th>...</th>\n",
              "      <td>...</td>\n",
              "      <td>...</td>\n",
              "      <td>...</td>\n",
              "      <td>...</td>\n",
              "      <td>...</td>\n",
              "      <td>...</td>\n",
              "      <td>...</td>\n",
              "      <td>...</td>\n",
              "      <td>...</td>\n",
              "      <td>...</td>\n",
              "    </tr>\n",
              "    <tr>\n",
              "      <th>441</th>\n",
              "      <td>1.940860</td>\n",
              "      <td>-1.829271</td>\n",
              "      <td>2.009975</td>\n",
              "      <td>1.002267</td>\n",
              "      <td>0</td>\n",
              "      <td>ND</td>\n",
              "      <td>0.099444</td>\n",
              "      <td>0.120946</td>\n",
              "      <td>low</td>\n",
              "      <td>0</td>\n",
              "    </tr>\n",
              "    <tr>\n",
              "      <th>442</th>\n",
              "      <td>1.939265</td>\n",
              "      <td>-1.842192</td>\n",
              "      <td>2.047630</td>\n",
              "      <td>1.019873</td>\n",
              "      <td>4</td>\n",
              "      <td>CQ</td>\n",
              "      <td>0.105278</td>\n",
              "      <td>0.128041</td>\n",
              "      <td>low</td>\n",
              "      <td>0</td>\n",
              "    </tr>\n",
              "    <tr>\n",
              "      <th>443</th>\n",
              "      <td>1.937643</td>\n",
              "      <td>-1.854460</td>\n",
              "      <td>2.084513</td>\n",
              "      <td>1.037541</td>\n",
              "      <td>4</td>\n",
              "      <td>CQ</td>\n",
              "      <td>0.111111</td>\n",
              "      <td>0.135135</td>\n",
              "      <td>low</td>\n",
              "      <td>0</td>\n",
              "    </tr>\n",
              "    <tr>\n",
              "      <th>444</th>\n",
              "      <td>1.935907</td>\n",
              "      <td>-1.866127</td>\n",
              "      <td>2.120780</td>\n",
              "      <td>1.054449</td>\n",
              "      <td>4</td>\n",
              "      <td>CQ</td>\n",
              "      <td>0.116944</td>\n",
              "      <td>0.142230</td>\n",
              "      <td>low</td>\n",
              "      <td>0</td>\n",
              "    </tr>\n",
              "    <tr>\n",
              "      <th>445</th>\n",
              "      <td>1.950978</td>\n",
              "      <td>-1.517952</td>\n",
              "      <td>1.243683</td>\n",
              "      <td>0.629274</td>\n",
              "      <td>0</td>\n",
              "      <td>ND</td>\n",
              "      <td>0.000000</td>\n",
              "      <td>0.000000</td>\n",
              "      <td>low</td>\n",
              "      <td>0</td>\n",
              "    </tr>\n",
              "  </tbody>\n",
              "</table>\n",
              "<p>446 rows × 10 columns</p>\n",
              "</div>"
            ]
          },
          "metadata": {
            "tags": []
          },
          "execution_count": 59
        }
      ]
    },
    {
      "cell_type": "code",
      "metadata": {
        "id": "P4M9g9ud0faJ",
        "colab_type": "code",
        "outputId": "288f5758-01d5-440d-c824-e4ab32a52480",
        "colab": {
          "base_uri": "https://localhost:8080/",
          "height": 34
        }
      },
      "source": [
        "X=np.array(Dataset.values[:,0:np.size(Dataset,axis=1)-6],dtype='float64')\n",
        "y=np.array(Dataset['Label'],dtype='int')\n",
        "INPUT_DIM=np.size(X,axis=1)#Number of features\n",
        "print('Number of features:{}'.format(INPUT_DIM))"
      ],
      "execution_count": 60,
      "outputs": [
        {
          "output_type": "stream",
          "text": [
            "Number of features:4\n"
          ],
          "name": "stdout"
        }
      ]
    },
    {
      "cell_type": "markdown",
      "metadata": {
        "id": "6eokJ5a3L6pT",
        "colab_type": "text"
      },
      "source": [
        "# Hyperparameter Tuning / Model Selection"
      ]
    },
    {
      "cell_type": "markdown",
      "metadata": {
        "id": "aq1WxRWCl5_u",
        "colab_type": "text"
      },
      "source": [
        "Function to run randomized search CV in diverse models with repeated stratified K-fold"
      ]
    },
    {
      "cell_type": "code",
      "metadata": {
        "id": "KVKY5eyz1AVF",
        "colab_type": "code",
        "colab": {}
      },
      "source": [
        "# adapted from: http://www.codiply.com/blog/hyperparameter-grid-search-across-multiple-models-in-scikit-learn/\n",
        "#Single Metric\n",
        "# class EstimatorSelectionHelper:\n",
        "    \n",
        "#     def __init__(self, models, params):\n",
        "#         self.models = models\n",
        "#         self.params = params\n",
        "#         self.keys = models.keys()\n",
        "#         self.grid_searches = {}\n",
        "    \n",
        "#     def fit(self, X, y, CV=5, n_exec=1, n_repet=2, seed=1,**grid_kwargs):\n",
        "#         for key in self.keys:\n",
        "#             print('Running Randomized Search CV for %s.' % key)\n",
        "#             model = self.models[key]\n",
        "#             params = self.params[key]\n",
        "#             skf=RepeatedStratifiedKFold(n_splits=CV,n_repeats=n_repet,random_state=seed)\n",
        "#             grid_search = RandomizedSearchCV(model, params, cv=skf, n_iter=n_exec, **grid_kwargs)\n",
        "#             grid_search.fit(X, y)\n",
        "#             self.grid_searches[key] = grid_search\n",
        "#         print('Done.')\n",
        "    \n",
        "#     def score_summary(self, sort_by='mean_test_score'):\n",
        "#         frames = []\n",
        "#         best_params=[]\n",
        "#         best_score=[]\n",
        "#         best_data=[]\n",
        "#         for name, grid_search in self.grid_searches.items():\n",
        "#             frame = pd.DataFrame(grid_search.cv_results_)\n",
        "#             frame = frame.filter(regex='^(?!.*param_).*$')\n",
        "#             frame['estimator'] = len(frame)*[name]\n",
        "#             frames.append(frame)\n",
        "#             bs=(name,grid_search.best_score_)\n",
        "#             bp=(name,grid_search.best_params_)\n",
        "#             bdata=(name,grid_search.cv_results_)\n",
        "#             best_params.append(bp)\n",
        "#             best_score.append(bs)\n",
        "#             best_data.append(bdata)\n",
        "#         df = pd.concat(frames)\n",
        "        \n",
        "#         df = df.sort_values([sort_by], ascending=False)\n",
        "#         df = df.reset_index()\n",
        "#         df = df.drop(['rank_test_score', 'index'], 1)\n",
        "        \n",
        "#         columns = df.columns.tolist()\n",
        "#         columns.remove('estimator')\n",
        "#         columns = ['estimator']+columns\n",
        "#         df = df[columns]\n",
        "#         return df,best_params,best_score,best_data"
      ],
      "execution_count": 0,
      "outputs": []
    },
    {
      "cell_type": "code",
      "metadata": {
        "id": "piDTv1dhJ8jL",
        "colab_type": "code",
        "colab": {}
      },
      "source": [
        "# adapted from: http://www.codiply.com/blog/hyperparameter-grid-search-across-multiple-models-in-scikit-learn/\n",
        "#MULTI METRIC\n",
        "class EstimatorSelectionHelper:\n",
        "    \n",
        "    def __init__(self, models, params):\n",
        "        self.models = models\n",
        "        self.params = params\n",
        "        self.keys = models.keys()\n",
        "        self.grid_searches = {}\n",
        "    \n",
        "    def fit(self, X, y, CV=5, n_exec=1, n_repet=2, seed=1,**grid_kwargs):\n",
        "        for key in self.keys:\n",
        "            t1 = time.time()\n",
        "            print('Running Randomized Search CV for %s.' % key)\n",
        "            model = self.models[key]\n",
        "            params = self.params[key]\n",
        "            scoring = {'Accuracy':'accuracy','AUC': 'roc_auc_ovr_weighted'}\n",
        "            skf=RepeatedStratifiedKFold(n_splits=CV,n_repeats=n_repet,random_state=seed)\n",
        "            grid_search = RandomizedSearchCV(model, params, cv=skf, n_iter=n_exec,scoring=scoring,refit='Accuracy',random_state=seed,**grid_kwargs)\n",
        "            grid_search.fit(X, y)\n",
        "            self.grid_searches[key] = grid_search\n",
        "            print ('Elapsed time '+str(round(time.time()-t1,4))+' seconds')\n",
        "        print('Done.')\n",
        "    \n",
        "    def score_summary(self, sort_by='mean_test_Accuracy'):\n",
        "        frames = []\n",
        "        best_params=[]\n",
        "        best_score=[]\n",
        "        best_data=[]\n",
        "        for name, grid_search in self.grid_searches.items():\n",
        "            frame = pd.DataFrame(grid_search.cv_results_)\n",
        "            frame = frame.filter(regex='^(?!.*param_).*$')\n",
        "            frame['estimator'] = len(frame)*[name]\n",
        "            frames.append(frame)\n",
        "            bs=(name,grid_search.best_score_)\n",
        "            bp=(name,grid_search.best_params_)\n",
        "            bdata=(name,grid_search.cv_results_)\n",
        "            best_params.append(bp)\n",
        "            best_score.append(bs)\n",
        "            best_data.append(bdata)\n",
        "        df = pd.concat(frames)\n",
        "        \n",
        "        df = df.sort_values([sort_by], ascending=False)\n",
        "        df = df.reset_index()\n",
        "        df = df.drop(['rank_test_Accuracy','rank_test_AUC', 'index'], 1)\n",
        "        N=int((np.size(df,1)-10)/2)\n",
        "        for i in range(0,N):\n",
        "          df = df.drop(['split'+str(i)+'_test_Accuracy'], 1)\n",
        "          df = df.drop(['split'+str(i)+'_test_AUC'], 1)\n",
        "        \n",
        "        columns = df.columns.tolist()\n",
        "        columns.remove('estimator')\n",
        "        columns = ['estimator']+columns\n",
        "        df = df[columns]\n",
        "        return df,best_params,best_score,best_data"
      ],
      "execution_count": 0,
      "outputs": []
    },
    {
      "cell_type": "code",
      "metadata": {
        "id": "YhPM6rddlk7q",
        "colab_type": "code",
        "colab": {}
      },
      "source": [
        "def NNet(n_neurons=10,n_hidden_layers=1,t_activation='relu'):\n",
        "# create model\n",
        "  if n_hidden_layers==1:\n",
        "    model = tf.keras.Sequential([tf.keras.layers.Dense(n_neurons,input_dim=INPUT_DIM, activation=t_activation),tf.keras.layers.Dense(N_CLAS, activation='softmax')]) #5 classes\n",
        "  elif n_hidden_layers==2:\n",
        "    model = tf.keras.Sequential([tf.keras.layers.Dense(n_neurons,input_dim=INPUT_DIM ,activation=t_activation),tf.keras.layers.Dense(n_neurons, activation=t_activation),tf.keras.layers.Dense(N_CLAS, activation='softmax')]) #5 classes\n",
        "  elif n_hidden_layers==3:\n",
        "    model = tf.keras.Sequential([tf.keras.layers.Dense(n_neurons,input_dim=INPUT_DIM, activation=t_activation),tf.keras.layers.Dense(n_neurons, activation=t_activation),tf.keras.layers.Dense(n_neurons, activation=t_activation),tf.keras.layers.Dense(N_CLAS, activation='softmax')]) #5 classes\n",
        "  # Compile model\n",
        "  model.compile(optimizer='adam',loss='sparse_categorical_crossentropy',metrics=['accuracy'])\t\n",
        "  return model"
      ],
      "execution_count": 0,
      "outputs": []
    },
    {
      "cell_type": "code",
      "metadata": {
        "id": "djhTT0tGlm0C",
        "colab_type": "code",
        "colab": {}
      },
      "source": [
        "MLPClassifier= tf.keras.wrappers.scikit_learn.KerasClassifier(build_fn=NNet,verbose=0)"
      ],
      "execution_count": 0,
      "outputs": []
    },
    {
      "cell_type": "markdown",
      "metadata": {
        "id": "Z6nU3T1DVJ_V",
        "colab_type": "text"
      },
      "source": [
        "Representants related to top 10 of paper: "
      ]
    },
    {
      "cell_type": "code",
      "metadata": {
        "id": "7aODYgN2LziF",
        "colab_type": "code",
        "colab": {}
      },
      "source": [
        "modelsHT = {\n",
        "            'SVM': SVC(C=1,kernel='rbf',degree=5,gamma='scale',tol=1e-3,class_weight='balanced',decision_function_shape='ovr',random_state=seed,\n",
        "                       max_iter=1000000,probability=True),\n",
        "            'RF':RandomForestClassifier(n_estimators=100,criterion='gini',max_depth=None,\n",
        "                                                min_samples_split=2,min_samples_leaf=1,min_weight_fraction_leaf=0.0,\n",
        "                                                max_features=None, bootstrap=True,oob_score=False, random_state=seed, \n",
        "                                                class_weight='balanced'),\n",
        "            'ABST':AdaBoostClassifier(base_estimator=None,n_estimators=50,learning_rate=1.0,algorithm='SAMME.R',random_state=seed),\n",
        "            'GBST':GradientBoostingClassifier(learning_rate=0.1,n_estimators=100,max_depth=3,\n",
        "                                                min_samples_split=2,min_samples_leaf=1,min_weight_fraction_leaf=0.0,random_state=seed,\n",
        "                                                max_features=None,tol=1e-4),\n",
        "            'BAG':BaggingClassifier(base_estimator=None,n_estimators=10,bootstrap=True,random_state=seed),\n",
        "            'MLP':MLPClassifier}"
      ],
      "execution_count": 0,
      "outputs": []
    },
    {
      "cell_type": "markdown",
      "metadata": {
        "id": "oK2RaHjzaY4X",
        "colab_type": "text"
      },
      "source": [
        "\n",
        "\n",
        "*   SVM: Based on paper -> *Effectiveness of Random Search in SVM hyper-parameter tuning*\n",
        "\n",
        "*   RF: Based on paper -> *Hyperparameters and tuning strategies for random forest* -- https://towardsdatascience.com/hyperparameter-tuning-the-random-forest-in-python-using-scikit-learn-28d2aa77dd74\n",
        "\n",
        "* ABST: https://machinelearningmastery.com/tune-learning-rate-for-gradient-boosting-with-xgboost-in-python/\n",
        "\n",
        "* GBST: https://machinelearningmastery.com/tune-learning-rate-for-gradient-boosting-with-xgboost-in-python/\n",
        "\n",
        "* BAG: Based on previous variations\n",
        "\n",
        "\n",
        "* MLP: Based on preliminary grid-search\n"
      ]
    },
    {
      "cell_type": "code",
      "metadata": {
        "id": "ZWbBp-2qlvsy",
        "colab_type": "code",
        "colab": {}
      },
      "source": [
        "paramsHT = { \n",
        "            'SVM': {'C':list(np.logspace(-2, 15, 18)),'kernel':['rbf','poly','linear','sigmoid'],'degree':[2,3,4,5],'gamma':[1e-15,1e-14,1e-13,1e-12,1e-11,1e-10,1e-09,1e-08,1e-07,1e-06,1e-05,0.0001,0.001,0.01,0.1,1.0,10.0,100.0,1000.0,'scale','auto']},\n",
        "            'RF':{'n_estimators':[10,50,100,200,500,1000],'criterion':['gini','entropy'],'max_features':list(np.arange(1,np.size(X,axis=1)+1)),'min_samples_split':list(np.arange(2,11)),'bootstrap':[True,False],'min_samples_leaf':list(np.arange(2,11))},\n",
        "            'ABST':{'n_estimators':[10,50,100,200,500,1000],'learning_rate':[0.0001, 0.001, 0.01, 0.1, 0.2, 0.3, 0.5, 1.0, 5, 10]},\n",
        "            'GBST':{'n_estimators':[10,50,100,200,500,1000],'learning_rate':[0.0001, 0.001, 0.01, 0.1, 0.2, 0.3, 1.0, 5, 10],\n",
        "            'min_samples_split':[2, 5, 10],'min_samples_leaf':[1, 2, 4],'max_features':list(np.arange(1,np.size(X,axis=1)+1))},\n",
        "            'BAG':{'n_estimators':[10,50,100],'bootstrap':[True,False],'max_features':list(np.arange(1,np.size(X,axis=1)+1))},\n",
        "            'MLP':{'n_neurons':[5,10,20,50,100],'n_hidden_layers':[1,2,3],'t_activation':['relu','tanh'],'epochs':[150,200,250,300,350],'batch_size':[2,4,6,8,10,20,30,32]}\n",
        "            }"
      ],
      "execution_count": 0,
      "outputs": []
    },
    {
      "cell_type": "code",
      "metadata": {
        "id": "rD7L8Znz16Yh",
        "colab_type": "code",
        "outputId": "2452f51c-8465-40a7-e4c4-cf8be61c6953",
        "colab": {
          "base_uri": "https://localhost:8080/",
          "height": 68
        }
      },
      "source": [
        "tic()\n",
        "Kf=10\n",
        "Exec=50\n",
        "Rep=10\n",
        "helper1 = EstimatorSelectionHelper(modelsHT, paramsHT)\n",
        "helper1.fit(X, y, CV=Kf, n_exec=Exec, n_repet=Rep, seed=seed,n_jobs=1)\n",
        "toc()"
      ],
      "execution_count": 0,
      "outputs": [
        {
          "output_type": "stream",
          "text": [
            "Running Randomized Search CV for RF.\n",
            "Elapsed time 3174.6285 seconds\n",
            "Running Randomized Search CV for MLP.\n"
          ],
          "name": "stdout"
        }
      ]
    },
    {
      "cell_type": "code",
      "metadata": {
        "id": "U9vPZL-rEy5X",
        "colab_type": "code",
        "colab": {}
      },
      "source": [
        "df,best_params,best_scores,best_data=helper1.score_summary()"
      ],
      "execution_count": 0,
      "outputs": []
    },
    {
      "cell_type": "code",
      "metadata": {
        "id": "KwBOrOl8iZ46",
        "colab_type": "code",
        "colab": {}
      },
      "source": [
        "df"
      ],
      "execution_count": 0,
      "outputs": []
    },
    {
      "cell_type": "code",
      "metadata": {
        "id": "9Auh_pqdi9eQ",
        "colab_type": "code",
        "colab": {}
      },
      "source": [
        "best_params"
      ],
      "execution_count": 0,
      "outputs": []
    },
    {
      "cell_type": "code",
      "metadata": {
        "id": "Cowrb-IAi9kj",
        "colab_type": "code",
        "colab": {}
      },
      "source": [
        "best_scores"
      ],
      "execution_count": 0,
      "outputs": []
    },
    {
      "cell_type": "code",
      "metadata": {
        "id": "UPq0rU8FkeHC",
        "colab_type": "code",
        "colab": {}
      },
      "source": [
        "best_data"
      ],
      "execution_count": 0,
      "outputs": []
    },
    {
      "cell_type": "code",
      "metadata": {
        "id": "gs3wETwTydxB",
        "colab_type": "code",
        "colab": {}
      },
      "source": [
        "timestr = time.strftime(\"%Y_%m_%d-%H_%M_%S\")\n",
        "TF=round(time.time()-T0,4)\n",
        "FILE_NAME=('Models_Kfold_'+str(Kf)+'_Combinations_'+str(Exec)+'_Repetitions_'+str(Rep)+'_date_'+timestr+'.pickle')\n",
        "if SAVE==1:\n",
        "  with open(FILE_NAME, 'wb') as filename:\n",
        "    pickle.dump([TF,Kf,Exec,Rep,df,best_params,best_scores,best_data], filename)  "
      ],
      "execution_count": 0,
      "outputs": []
    },
    {
      "cell_type": "code",
      "metadata": {
        "id": "69Y1Sn6U2_TE",
        "colab_type": "code",
        "colab": {}
      },
      "source": [
        "#PARA CARREGAR DADOS POSTERIORMENTE\n",
        "# with open('Models_Kfold_10_Combinations_1_Repetitions_1_date_2020_04_08-19_05_08.pickle', 'rb') as filename:\n",
        "#   Tempo,X1,X2,X3,X4,X5,X6,X7 = pickle.load(filename)"
      ],
      "execution_count": 0,
      "outputs": []
    },
    {
      "cell_type": "code",
      "metadata": {
        "id": "OpxBUCn4oyzG",
        "colab_type": "code",
        "colab": {}
      },
      "source": [
        "TOC()"
      ],
      "execution_count": 0,
      "outputs": []
    }
  ]
}