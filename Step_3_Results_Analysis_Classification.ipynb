{
  "nbformat": 4,
  "nbformat_minor": 0,
  "metadata": {
    "colab": {
      "name": "Step 3 - Results Analysis - Classification",
      "provenance": [],
      "collapsed_sections": [],
      "include_colab_link": true
    },
    "kernelspec": {
      "display_name": "Python 3",
      "language": "python",
      "name": "python3"
    },
    "language_info": {
      "codemirror_mode": {
        "name": "ipython",
        "version": 3
      },
      "file_extension": ".py",
      "mimetype": "text/x-python",
      "name": "python",
      "nbconvert_exporter": "python",
      "pygments_lexer": "ipython3",
      "version": "3.7.4"
    }
  },
  "cells": [
    {
      "cell_type": "markdown",
      "metadata": {
        "id": "view-in-github",
        "colab_type": "text"
      },
      "source": [
        "<a href=\"https://colab.research.google.com/github/MateusGheorghe/LAMP/blob/master/Step_3_Results_Analysis_Classification.ipynb\" target=\"_parent\"><img src=\"https://colab.research.google.com/assets/colab-badge.svg\" alt=\"Open In Colab\"/></a>"
      ]
    },
    {
      "cell_type": "code",
      "metadata": {
        "id": "UkXy5yk1KorI"
      },
      "source": [
        "from __future__ import absolute_import, division, print_function, unicode_literals"
      ],
      "execution_count": 68,
      "outputs": []
    },
    {
      "cell_type": "code",
      "metadata": {
        "id": "gNdTxcu-NMwB"
      },
      "source": [
        "AIRIS=1 # Using G-drive cloud AIRIS= 0 / Using AIRIS , AIRIS =1\n",
        "GEN_SHEET=1 # Generate spreadsheet GEN_SHEET=1 / or not GEN_SHEET=0"
      ],
      "execution_count": 69,
      "outputs": []
    },
    {
      "cell_type": "code",
      "metadata": {
        "id": "fyAGSC7ANO7J"
      },
      "source": [
        "if AIRIS==0:\n",
        "  from google.colab import drive\n",
        "  drive.mount(\"/gdrive\")\n",
        "  import os\n",
        "  os.chdir(\"/gdrive/My Drive/MESTRADO/ProjetoRepsol/PZFLEXData/AIRIS\")\n",
        "  # os.chdir(\"/gdrive/My Drive/MESTRADO/ProjetoRepsol/COMSOLData\")"
      ],
      "execution_count": 70,
      "outputs": []
    },
    {
      "cell_type": "code",
      "metadata": {
        "id": "NqrRNF_5GrHW"
      },
      "source": [
        "# TensorFlow e tf.keras\n",
        "import tensorflow as tf"
      ],
      "execution_count": 71,
      "outputs": []
    },
    {
      "cell_type": "code",
      "metadata": {
        "id": "i3ZY_4RZGrLl"
      },
      "source": [
        "# Librariesauxiliares\n",
        "import itertools\n",
        "import numpy as np\n",
        "import matplotlib.pyplot as plt \n",
        "import seaborn as sns\n",
        "import sklearn\n",
        "import pandas as pd\n",
        "import time\n",
        "sns.set()\n",
        "import plotly.express as px\n",
        "from sklearn import preprocessing\n",
        "#Model Selection\n",
        "from sklearn.model_selection import StratifiedKFold, RepeatedStratifiedKFold, cross_validate, cross_val_score, RandomizedSearchCV, GridSearchCV\n",
        "from sklearn import metrics\n",
        "import pickle"
      ],
      "execution_count": 72,
      "outputs": []
    },
    {
      "cell_type": "code",
      "metadata": {
        "id": "BQx7Da05qsBc"
      },
      "source": [
        "from pylab import rcParams\n",
        "rcParams['figure.figsize'] = 10, 10\n",
        "import matplotlib.pyplot as plt\n",
        "SMALL_SIZE = 22\n",
        "MEDIUM_SIZE = 42\n",
        "BIGGER_SIZE = 62\n",
        "plt.rc('font', size=SMALL_SIZE)          # controls default text sizes\n",
        "plt.rc('axes', titlesize=SMALL_SIZE)     # fontsize of the axes title\n",
        "plt.rc('axes', labelsize=SMALL_SIZE)    # fontsize of the x and y labels\n",
        "plt.rc('xtick', labelsize=SMALL_SIZE)    # fontsize of the tick labels\n",
        "plt.rc('ytick', labelsize=SMALL_SIZE)    # fontsize of the tick labels\n",
        "plt.rc('legend', fontsize=SMALL_SIZE)    # legend fontsize\n",
        "plt.rc('figure', titlesize=BIGGER_SIZE)  # fontsize of the figure title"
      ],
      "execution_count": 73,
      "outputs": []
    },
    {
      "cell_type": "code",
      "metadata": {
        "id": "Afdn1kRmGrO3",
        "outputId": "1aebad25-066b-4ef9-a41f-d69a6a5c2026",
        "colab": {
          "base_uri": "https://localhost:8080/"
        }
      },
      "source": [
        "print('The tensorflow version is {}.'.format(tf.__version__))\n",
        "print('The scikit-learn version is {}.'.format(sklearn.__version__))"
      ],
      "execution_count": 74,
      "outputs": [
        {
          "output_type": "stream",
          "text": [
            "The tensorflow version is 2.1.0.\n",
            "The scikit-learn version is 0.22.1.\n"
          ],
          "name": "stdout"
        }
      ]
    },
    {
      "cell_type": "code",
      "metadata": {
        "id": "zd8SGmR7vSal"
      },
      "source": [
        "def tic():\n",
        "    #Homemade version of matlab tic and toc functions\n",
        "    import time\n",
        "    global startTime_for_tictoc\n",
        "    startTime_for_tictoc = time.time()\n",
        "\n",
        "def toc():\n",
        "    import time\n",
        "    if 'startTime_for_tictoc' in globals():\n",
        "        print ('\\nElapsed time is ')\n",
        "        print (str(time.time() - startTime_for_tictoc))\n",
        "        print('seconds.\\n')\n",
        "    else:\n",
        "        print ('\\nToc: start time not set\\n')"
      ],
      "execution_count": 75,
      "outputs": []
    },
    {
      "cell_type": "code",
      "metadata": {
        "id": "PqPCCX8XvSao"
      },
      "source": [
        "def TIC():\n",
        "    #Homemade version of matlab tic and toc functions\n",
        "    import time\n",
        "    global startTime_for_tictoc1\n",
        "    startTime_for_tictoc1 = time.time()\n",
        "\n",
        "def TOC():\n",
        "    import time\n",
        "    if 'startTime_for_tictoc' in globals():\n",
        "        print ('\\nElapsed time is ')\n",
        "        print (str(time.time() - startTime_for_tictoc1))\n",
        "        print('seconds.\\n')\n",
        "    else:\n",
        "        print ('\\nToc: start time not set\\n')"
      ],
      "execution_count": 76,
      "outputs": []
    },
    {
      "cell_type": "code",
      "metadata": {
        "id": "XQYrEhpq1xpF"
      },
      "source": [
        "from numpy.random import seed\n",
        "seed(1)\n",
        "tf.random.set_seed(2)"
      ],
      "execution_count": 77,
      "outputs": []
    },
    {
      "cell_type": "code",
      "metadata": {
        "id": "glZ0sdLw2kia",
        "outputId": "a294f088-b10f-421e-9737-60ca73df695f",
        "colab": {
          "base_uri": "https://localhost:8080/"
        }
      },
      "source": [
        "!ls"
      ],
      "execution_count": 78,
      "outputs": [
        {
          "output_type": "stream",
          "text": [
            "Batches_plus_multi-defect\t       PCs_446samples.mat\r\n",
            "Batches_PZTs\t\t\t       __pycache__\r\n",
            "Datasets\t\t\t       PZFlexData\r\n",
            "DimensionalityReduction-Copy1.py       Relatorio_V1_Results\r\n",
            "draw_neural_net.py\t\t       repo\r\n",
            "ExcelFileResults\t\t       Results_Step2\r\n",
            "Features_Manifold_Learning\t       Severity_446samples.mat\r\n",
            "Features_TSFEL\t\t\t       Step2-12-may-2020\r\n",
            "GridResult_500p_Classification.pickle  Step2-22-may-2020\r\n",
            "GridResult_500p_Regression.pickle      Step2_image\r\n",
            "Image_Approach\t\t\t       teste-16-apr-2020\r\n",
            "Old\t\t\t\t       teste-26-apr-2020\r\n"
          ],
          "name": "stdout"
        }
      ]
    },
    {
      "cell_type": "markdown",
      "metadata": {
        "id": "9FbMRH7317ZF"
      },
      "source": [
        "# Loading Data"
      ]
    },
    {
      "cell_type": "code",
      "metadata": {
        "id": "fKZojliXvSaq"
      },
      "source": [
        "TIC()"
      ],
      "execution_count": 79,
      "outputs": []
    },
    {
      "cell_type": "code",
      "metadata": {
        "id": "BBGMKsz1y79X"
      },
      "source": [
        "# with open('Step2-22-may-2020/CLASSIFICATION-Dataset_r0_Batch1-Models_6_Kfold_10_Combinations_100_Repetitions_10_date_2020_05_27-14_35_20.pickle', 'rb') as filename:\n",
        "#    TIME,Kf,Exec,Rep,DF,BestCases,BestScores,AllResults = pickle.load(filename)\n",
        "# with open('Step2-22-may-2020/CLASSIFICATION-Dataset_r1_Batch1-Models_6_Kfold_10_Combinations_100_Repetitions_10_date_2020_05_30-09_29_01.pickle', 'rb') as filename:\n",
        "#    TIME,Kf,Exec,Rep,DF,BestCases,BestScores,AllResults = pickle.load(filename)\n",
        "# with open('Step2-22-may-2020/CLASSIFICATION-Dataset_r0_r1_Batch1-Models_6_Kfold_10_Combinations_100_Repetitions_10_date_2020_05_27-14_04_42.pickle', 'rb') as filename:\n",
        "#    TIME,Kf,Exec,Rep,DF,BestCases,BestScores,AllResults = pickle.load(filename)\n",
        "# with open('Step2-22-may-2020/CLASSIFICATION-Dataset_r1_Batch2and4-Models_6_Kfold_10_Combinations_100_Repetitions_10_date_2020_06_14-11_20_41.pickle', 'rb') as filename:\n",
        "#    TIME,Kf,Exec,Rep,DF,BestCases,BestScores,AllResults = pickle.load(filename) # R1 - Batches 2 e 4\n",
        "with open('Step2-22-may-2020/CLASSIFICATION-Dataset_r0_Batch2and4-Models_6_Kfold_10_Combinations_100_Repetitions_10_date_2020_06_07-16_40_37.pickle', 'rb') as filename:\n",
        "   TIME,Kf,Exec,Rep,DF,BestCases,BestScores,AllResults = pickle.load(filename) # R0 - Batches 2 e 4\n",
        "# with open('Step2-22-may-2020/CLASSIFICATION-J10-Dataset_r0_r1_Batch2and4-Models_6_Kfold_10_Combinations_100_Repetitions_10_date_2020_06_16-13_21_36.pickle', 'rb') as filename:\n",
        "#    TIME,Kf,Exec,Rep,DF,BestCases,BestScores,AllResults = pickle.load(filename)\n",
        "# with open('Step2-22-may-2020/CLASSIFICATION-J7-Dataset_r0_r1_Batch1-Models_6_Kfold_10_Combinations_100_Repetitions_10_date_2020_06_12-10_12_20.pickle', 'rb') as filename:\n",
        "#    TIME,Kf,Exec,Rep,DF,BestCases,BestScores,AllResults = pickle.load(filename)\n",
        "#Temp R0\n",
        "# with open('Features_TSFEL/CLASSIFICATION-Dataset_Temp_r0_Batch_1-Models_6_Kfold_10_Combinations_100_Repetitions_10_date_2020_10_05-14_26_02.pickle', 'rb') as filename:\n",
        "#    TIME,Kf,Exec,Rep,DF,BestCases,BestScores,AllResults = pickle.load(filename)\n",
        "# #Temp R1\n",
        "# with open('Features_TSFEL/CLASSIFICATION-Dataset_Temp_r0_Batch_1-Models_6_Kfold_10_Combinations_100_Repetitions_10_date_2020_10_05-14_26_02.pickle', 'rb') as filename:\n",
        "#    TIME,Kf,Exec,Rep,DF,BestCases,BestScores,AllResults = pickle.load(filename)   \n",
        "# #Stat R0\n",
        "# with open('Features_TSFEL/CLASSIFICATION-Dataset_Temp_r0_Batch_1-Models_6_Kfold_10_Combinations_100_Repetitions_10_date_2020_10_05-14_26_02.pickle', 'rb') as filename:\n",
        "#    TIME,Kf,Exec,Rep,DF,BestCases,BestScores,AllResults = pickle.load(filename)   \n",
        "# #Stat R1\n",
        "# with open('Features_TSFEL/CLASSIFICATION-Dataset_Temp_r0_Batch_1-Models_6_Kfold_10_Combinations_100_Repetitions_10_date_2020_10_05-14_26_02.pickle', 'rb') as filename:\n",
        "#    TIME,Kf,Exec,Rep,DF,BestCases,BestScores,AllResults = pickle.load(filename)   \n"
      ],
      "execution_count": 80,
      "outputs": []
    },
    {
      "cell_type": "code",
      "metadata": {
        "id": "ICgPo2ND2u1S",
        "outputId": "42d81e31-9eb9-4d0e-a929-24d14103c285",
        "colab": {
          "base_uri": "https://localhost:8080/",
          "height": 759
        }
      },
      "source": [
        "DF"
      ],
      "execution_count": 81,
      "outputs": [
        {
          "output_type": "execute_result",
          "data": {
            "text/plain": [
              "    estimator  mean_fit_time  std_fit_time  mean_score_time  std_score_time  \\\n",
              "0         SVM       0.193155      0.033080         0.003872        0.000611   \n",
              "1         SVM       0.202741      0.035010         0.003843        0.000253   \n",
              "2         SVM       0.852418      0.130363         0.003497        0.000327   \n",
              "3         SVM       0.202607      0.028929         0.003157        0.000053   \n",
              "4         SVM       0.096149      0.006363         0.004340        0.000572   \n",
              "..        ...            ...           ...              ...             ...   \n",
              "595       SVM       0.326057      0.005564         0.010488        0.000365   \n",
              "596       SVM       0.322349      0.002719         0.010366        0.000202   \n",
              "597       SVM       0.320553      0.002669         0.010593        0.000183   \n",
              "598       SVM       0.156886      0.003533         0.006814        0.000185   \n",
              "599       SVM       0.363132      0.011483         0.012561        0.000886   \n",
              "\n",
              "                                                params  mean_test_Accuracy  \\\n",
              "0    {'kernel': 'rbf', 'gamma': 0.1, 'degree': 3, '...            0.990341   \n",
              "1    {'kernel': 'rbf', 'gamma': 0.1, 'degree': 3, '...            0.990341   \n",
              "2    {'kernel': 'poly', 'gamma': 10.0, 'degree': 2,...            0.989003   \n",
              "3    {'kernel': 'poly', 'gamma': 1.0, 'degree': 4, ...            0.988852   \n",
              "4    {'kernel': 'rbf', 'gamma': 0.1, 'degree': 3, '...            0.988336   \n",
              "..                                                 ...                 ...   \n",
              "595  {'kernel': 'sigmoid', 'gamma': 1e-11, 'degree'...            0.199345   \n",
              "596  {'kernel': 'sigmoid', 'gamma': 1e-05, 'degree'...            0.199345   \n",
              "597  {'kernel': 'sigmoid', 'gamma': 1e-14, 'degree'...            0.199345   \n",
              "598  {'kernel': 'poly', 'gamma': 1e-07, 'degree': 3...            0.197255   \n",
              "599  {'kernel': 'rbf', 'gamma': 1e-15, 'degree': 4,...            0.193076   \n",
              "\n",
              "     std_test_Accuracy  mean_test_AUC  std_test_AUC  \n",
              "0             0.008305       0.999045      0.001279  \n",
              "1             0.008305       0.999045      0.001279  \n",
              "2             0.009251       0.999382      0.000908  \n",
              "3             0.007758       0.998437      0.002178  \n",
              "4             0.008993       0.999216      0.001233  \n",
              "..                 ...            ...           ...  \n",
              "595           0.065298       0.100697      0.010501  \n",
              "596           0.065298       0.115433      0.014323  \n",
              "597           0.065298       0.100696      0.010503  \n",
              "598           0.057931       0.500000      0.000000  \n",
              "599           0.049934       0.168447      0.035219  \n",
              "\n",
              "[600 rows x 10 columns]"
            ],
            "text/html": [
              "<div>\n",
              "<style scoped>\n",
              "    .dataframe tbody tr th:only-of-type {\n",
              "        vertical-align: middle;\n",
              "    }\n",
              "\n",
              "    .dataframe tbody tr th {\n",
              "        vertical-align: top;\n",
              "    }\n",
              "\n",
              "    .dataframe thead th {\n",
              "        text-align: right;\n",
              "    }\n",
              "</style>\n",
              "<table border=\"1\" class=\"dataframe\">\n",
              "  <thead>\n",
              "    <tr style=\"text-align: right;\">\n",
              "      <th></th>\n",
              "      <th>estimator</th>\n",
              "      <th>mean_fit_time</th>\n",
              "      <th>std_fit_time</th>\n",
              "      <th>mean_score_time</th>\n",
              "      <th>std_score_time</th>\n",
              "      <th>params</th>\n",
              "      <th>mean_test_Accuracy</th>\n",
              "      <th>std_test_Accuracy</th>\n",
              "      <th>mean_test_AUC</th>\n",
              "      <th>std_test_AUC</th>\n",
              "    </tr>\n",
              "  </thead>\n",
              "  <tbody>\n",
              "    <tr>\n",
              "      <th>0</th>\n",
              "      <td>SVM</td>\n",
              "      <td>0.193155</td>\n",
              "      <td>0.033080</td>\n",
              "      <td>0.003872</td>\n",
              "      <td>0.000611</td>\n",
              "      <td>{'kernel': 'rbf', 'gamma': 0.1, 'degree': 3, '...</td>\n",
              "      <td>0.990341</td>\n",
              "      <td>0.008305</td>\n",
              "      <td>0.999045</td>\n",
              "      <td>0.001279</td>\n",
              "    </tr>\n",
              "    <tr>\n",
              "      <th>1</th>\n",
              "      <td>SVM</td>\n",
              "      <td>0.202741</td>\n",
              "      <td>0.035010</td>\n",
              "      <td>0.003843</td>\n",
              "      <td>0.000253</td>\n",
              "      <td>{'kernel': 'rbf', 'gamma': 0.1, 'degree': 3, '...</td>\n",
              "      <td>0.990341</td>\n",
              "      <td>0.008305</td>\n",
              "      <td>0.999045</td>\n",
              "      <td>0.001279</td>\n",
              "    </tr>\n",
              "    <tr>\n",
              "      <th>2</th>\n",
              "      <td>SVM</td>\n",
              "      <td>0.852418</td>\n",
              "      <td>0.130363</td>\n",
              "      <td>0.003497</td>\n",
              "      <td>0.000327</td>\n",
              "      <td>{'kernel': 'poly', 'gamma': 10.0, 'degree': 2,...</td>\n",
              "      <td>0.989003</td>\n",
              "      <td>0.009251</td>\n",
              "      <td>0.999382</td>\n",
              "      <td>0.000908</td>\n",
              "    </tr>\n",
              "    <tr>\n",
              "      <th>3</th>\n",
              "      <td>SVM</td>\n",
              "      <td>0.202607</td>\n",
              "      <td>0.028929</td>\n",
              "      <td>0.003157</td>\n",
              "      <td>0.000053</td>\n",
              "      <td>{'kernel': 'poly', 'gamma': 1.0, 'degree': 4, ...</td>\n",
              "      <td>0.988852</td>\n",
              "      <td>0.007758</td>\n",
              "      <td>0.998437</td>\n",
              "      <td>0.002178</td>\n",
              "    </tr>\n",
              "    <tr>\n",
              "      <th>4</th>\n",
              "      <td>SVM</td>\n",
              "      <td>0.096149</td>\n",
              "      <td>0.006363</td>\n",
              "      <td>0.004340</td>\n",
              "      <td>0.000572</td>\n",
              "      <td>{'kernel': 'rbf', 'gamma': 0.1, 'degree': 3, '...</td>\n",
              "      <td>0.988336</td>\n",
              "      <td>0.008993</td>\n",
              "      <td>0.999216</td>\n",
              "      <td>0.001233</td>\n",
              "    </tr>\n",
              "    <tr>\n",
              "      <th>...</th>\n",
              "      <td>...</td>\n",
              "      <td>...</td>\n",
              "      <td>...</td>\n",
              "      <td>...</td>\n",
              "      <td>...</td>\n",
              "      <td>...</td>\n",
              "      <td>...</td>\n",
              "      <td>...</td>\n",
              "      <td>...</td>\n",
              "      <td>...</td>\n",
              "    </tr>\n",
              "    <tr>\n",
              "      <th>595</th>\n",
              "      <td>SVM</td>\n",
              "      <td>0.326057</td>\n",
              "      <td>0.005564</td>\n",
              "      <td>0.010488</td>\n",
              "      <td>0.000365</td>\n",
              "      <td>{'kernel': 'sigmoid', 'gamma': 1e-11, 'degree'...</td>\n",
              "      <td>0.199345</td>\n",
              "      <td>0.065298</td>\n",
              "      <td>0.100697</td>\n",
              "      <td>0.010501</td>\n",
              "    </tr>\n",
              "    <tr>\n",
              "      <th>596</th>\n",
              "      <td>SVM</td>\n",
              "      <td>0.322349</td>\n",
              "      <td>0.002719</td>\n",
              "      <td>0.010366</td>\n",
              "      <td>0.000202</td>\n",
              "      <td>{'kernel': 'sigmoid', 'gamma': 1e-05, 'degree'...</td>\n",
              "      <td>0.199345</td>\n",
              "      <td>0.065298</td>\n",
              "      <td>0.115433</td>\n",
              "      <td>0.014323</td>\n",
              "    </tr>\n",
              "    <tr>\n",
              "      <th>597</th>\n",
              "      <td>SVM</td>\n",
              "      <td>0.320553</td>\n",
              "      <td>0.002669</td>\n",
              "      <td>0.010593</td>\n",
              "      <td>0.000183</td>\n",
              "      <td>{'kernel': 'sigmoid', 'gamma': 1e-14, 'degree'...</td>\n",
              "      <td>0.199345</td>\n",
              "      <td>0.065298</td>\n",
              "      <td>0.100696</td>\n",
              "      <td>0.010503</td>\n",
              "    </tr>\n",
              "    <tr>\n",
              "      <th>598</th>\n",
              "      <td>SVM</td>\n",
              "      <td>0.156886</td>\n",
              "      <td>0.003533</td>\n",
              "      <td>0.006814</td>\n",
              "      <td>0.000185</td>\n",
              "      <td>{'kernel': 'poly', 'gamma': 1e-07, 'degree': 3...</td>\n",
              "      <td>0.197255</td>\n",
              "      <td>0.057931</td>\n",
              "      <td>0.500000</td>\n",
              "      <td>0.000000</td>\n",
              "    </tr>\n",
              "    <tr>\n",
              "      <th>599</th>\n",
              "      <td>SVM</td>\n",
              "      <td>0.363132</td>\n",
              "      <td>0.011483</td>\n",
              "      <td>0.012561</td>\n",
              "      <td>0.000886</td>\n",
              "      <td>{'kernel': 'rbf', 'gamma': 1e-15, 'degree': 4,...</td>\n",
              "      <td>0.193076</td>\n",
              "      <td>0.049934</td>\n",
              "      <td>0.168447</td>\n",
              "      <td>0.035219</td>\n",
              "    </tr>\n",
              "  </tbody>\n",
              "</table>\n",
              "<p>600 rows × 10 columns</p>\n",
              "</div>"
            ]
          },
          "metadata": {
            "tags": []
          },
          "execution_count": 81
        }
      ]
    },
    {
      "cell_type": "code",
      "metadata": {
        "id": "1jPJbG5GWd6T",
        "outputId": "d7729acc-faff-43b5-e8aa-6de87bc1fbdc",
        "colab": {
          "base_uri": "https://localhost:8080/"
        }
      },
      "source": [
        "DF.groupby('estimator').size()"
      ],
      "execution_count": 82,
      "outputs": [
        {
          "output_type": "execute_result",
          "data": {
            "text/plain": [
              "estimator\n",
              "ABST    100\n",
              "BAG     100\n",
              "GBST    100\n",
              "MLP     100\n",
              "RF      100\n",
              "SVM     100\n",
              "dtype: int64"
            ]
          },
          "metadata": {
            "tags": []
          },
          "execution_count": 82
        }
      ]
    },
    {
      "cell_type": "markdown",
      "metadata": {
        "id": "gPpz6oqa_-zd"
      },
      "source": [
        "# Randomized CV Results"
      ]
    },
    {
      "cell_type": "code",
      "metadata": {
        "id": "ZFhG0Zvc_8Zx"
      },
      "source": [
        "DF_sorted_by_esitmator=DF.sort_values(by=['estimator'])\n",
        "Best_of_each_case = DF.groupby('estimator').first() "
      ],
      "execution_count": 83,
      "outputs": []
    },
    {
      "cell_type": "code",
      "metadata": {
        "id": "yFGGaz88b3dO",
        "outputId": "d6b50123-8908-4b9d-bf5b-1d173219fb7a",
        "colab": {
          "base_uri": "https://localhost:8080/",
          "height": 419
        }
      },
      "source": [
        "Best_of_each_case"
      ],
      "execution_count": 84,
      "outputs": [
        {
          "output_type": "execute_result",
          "data": {
            "text/plain": [
              "           mean_fit_time  std_fit_time  mean_score_time  std_score_time  \\\n",
              "estimator                                                                 \n",
              "ABST            0.007261      0.000320         0.003561        0.000161   \n",
              "BAG             0.086859      0.000923         0.007842        0.000080   \n",
              "GBST            0.965862      0.006917         0.004481        0.000132   \n",
              "MLP            58.762246      4.443611         0.086055        0.007155   \n",
              "RF              0.266636      0.003487         0.018085        0.000404   \n",
              "SVM             0.193155      0.033080         0.003872        0.000611   \n",
              "\n",
              "                                                      params  \\\n",
              "estimator                                                      \n",
              "ABST               {'n_estimators': 4, 'learning_rate': 0.1}   \n",
              "BAG        {'n_estimators': 32, 'max_samples': 0.8, 'max_...   \n",
              "GBST       {'subsample': 0.8, 'n_estimators': 256, 'min_s...   \n",
              "MLP        {'t_activation': 'relu', 'n_neurons': 100, 'n_...   \n",
              "RF         {'n_estimators': 128, 'min_samples_split': 6, ...   \n",
              "SVM        {'kernel': 'rbf', 'gamma': 0.1, 'degree': 3, '...   \n",
              "\n",
              "           mean_test_Accuracy  std_test_Accuracy  mean_test_AUC  std_test_AUC  \n",
              "estimator                                                                      \n",
              "ABST                 0.615760           0.047176       0.866892      0.012890  \n",
              "BAG                  0.983654           0.009967       0.998052      0.002551  \n",
              "GBST                 0.982911           0.010890       0.998826      0.001466  \n",
              "MLP                  0.986551           0.009732       0.998850      0.001490  \n",
              "RF                   0.981348           0.011828       0.998738      0.001747  \n",
              "SVM                  0.990341           0.008305       0.999045      0.001279  "
            ],
            "text/html": [
              "<div>\n",
              "<style scoped>\n",
              "    .dataframe tbody tr th:only-of-type {\n",
              "        vertical-align: middle;\n",
              "    }\n",
              "\n",
              "    .dataframe tbody tr th {\n",
              "        vertical-align: top;\n",
              "    }\n",
              "\n",
              "    .dataframe thead th {\n",
              "        text-align: right;\n",
              "    }\n",
              "</style>\n",
              "<table border=\"1\" class=\"dataframe\">\n",
              "  <thead>\n",
              "    <tr style=\"text-align: right;\">\n",
              "      <th></th>\n",
              "      <th>mean_fit_time</th>\n",
              "      <th>std_fit_time</th>\n",
              "      <th>mean_score_time</th>\n",
              "      <th>std_score_time</th>\n",
              "      <th>params</th>\n",
              "      <th>mean_test_Accuracy</th>\n",
              "      <th>std_test_Accuracy</th>\n",
              "      <th>mean_test_AUC</th>\n",
              "      <th>std_test_AUC</th>\n",
              "    </tr>\n",
              "    <tr>\n",
              "      <th>estimator</th>\n",
              "      <th></th>\n",
              "      <th></th>\n",
              "      <th></th>\n",
              "      <th></th>\n",
              "      <th></th>\n",
              "      <th></th>\n",
              "      <th></th>\n",
              "      <th></th>\n",
              "      <th></th>\n",
              "    </tr>\n",
              "  </thead>\n",
              "  <tbody>\n",
              "    <tr>\n",
              "      <th>ABST</th>\n",
              "      <td>0.007261</td>\n",
              "      <td>0.000320</td>\n",
              "      <td>0.003561</td>\n",
              "      <td>0.000161</td>\n",
              "      <td>{'n_estimators': 4, 'learning_rate': 0.1}</td>\n",
              "      <td>0.615760</td>\n",
              "      <td>0.047176</td>\n",
              "      <td>0.866892</td>\n",
              "      <td>0.012890</td>\n",
              "    </tr>\n",
              "    <tr>\n",
              "      <th>BAG</th>\n",
              "      <td>0.086859</td>\n",
              "      <td>0.000923</td>\n",
              "      <td>0.007842</td>\n",
              "      <td>0.000080</td>\n",
              "      <td>{'n_estimators': 32, 'max_samples': 0.8, 'max_...</td>\n",
              "      <td>0.983654</td>\n",
              "      <td>0.009967</td>\n",
              "      <td>0.998052</td>\n",
              "      <td>0.002551</td>\n",
              "    </tr>\n",
              "    <tr>\n",
              "      <th>GBST</th>\n",
              "      <td>0.965862</td>\n",
              "      <td>0.006917</td>\n",
              "      <td>0.004481</td>\n",
              "      <td>0.000132</td>\n",
              "      <td>{'subsample': 0.8, 'n_estimators': 256, 'min_s...</td>\n",
              "      <td>0.982911</td>\n",
              "      <td>0.010890</td>\n",
              "      <td>0.998826</td>\n",
              "      <td>0.001466</td>\n",
              "    </tr>\n",
              "    <tr>\n",
              "      <th>MLP</th>\n",
              "      <td>58.762246</td>\n",
              "      <td>4.443611</td>\n",
              "      <td>0.086055</td>\n",
              "      <td>0.007155</td>\n",
              "      <td>{'t_activation': 'relu', 'n_neurons': 100, 'n_...</td>\n",
              "      <td>0.986551</td>\n",
              "      <td>0.009732</td>\n",
              "      <td>0.998850</td>\n",
              "      <td>0.001490</td>\n",
              "    </tr>\n",
              "    <tr>\n",
              "      <th>RF</th>\n",
              "      <td>0.266636</td>\n",
              "      <td>0.003487</td>\n",
              "      <td>0.018085</td>\n",
              "      <td>0.000404</td>\n",
              "      <td>{'n_estimators': 128, 'min_samples_split': 6, ...</td>\n",
              "      <td>0.981348</td>\n",
              "      <td>0.011828</td>\n",
              "      <td>0.998738</td>\n",
              "      <td>0.001747</td>\n",
              "    </tr>\n",
              "    <tr>\n",
              "      <th>SVM</th>\n",
              "      <td>0.193155</td>\n",
              "      <td>0.033080</td>\n",
              "      <td>0.003872</td>\n",
              "      <td>0.000611</td>\n",
              "      <td>{'kernel': 'rbf', 'gamma': 0.1, 'degree': 3, '...</td>\n",
              "      <td>0.990341</td>\n",
              "      <td>0.008305</td>\n",
              "      <td>0.999045</td>\n",
              "      <td>0.001279</td>\n",
              "    </tr>\n",
              "  </tbody>\n",
              "</table>\n",
              "</div>"
            ]
          },
          "metadata": {
            "tags": []
          },
          "execution_count": 84
        }
      ]
    },
    {
      "cell_type": "code",
      "metadata": {
        "id": "7LjnEAGjn4uQ"
      },
      "source": [
        "N_models=np.size(Best_of_each_case,axis=0)\n",
        "N_splits=Kf*Rep\n",
        "name=[]\n",
        "ACC=[]\n",
        "AUC=[]\n",
        "TimeForTrain=[]\n",
        "Params=[]\n",
        "for i in range(0,N_models):\n",
        "  name.append(AllResults[i][0])\n",
        "  Aux=pd.DataFrame(AllResults[i][1])\n",
        "  I=np.where(np.array(Aux.loc[:,'mean_test_Accuracy'])==Aux.loc[:,'mean_test_Accuracy'].max())[0][0]\n",
        "  ACC.append(Aux.loc[I,\"split0_test_Accuracy\":\"split\"+str(N_splits-1)+\"_test_Accuracy\"])\n",
        "  AUC.append(Aux.loc[I,\"split0_test_AUC\":\"split\"+str(N_splits-1)+\"_test_AUC\"])\n",
        "  TimeForTrain.append(Aux.loc[I,\"mean_fit_time\"])\n",
        "  Params.append(Aux.loc[I,\"params\"])"
      ],
      "execution_count": 85,
      "outputs": []
    },
    {
      "cell_type": "code",
      "metadata": {
        "id": "jzpsNRpq1-TQ",
        "outputId": "0b5e666e-ff15-4f40-a753-a5115690f98b",
        "colab": {
          "base_uri": "https://localhost:8080/",
          "height": 628
        }
      },
      "source": [
        "# Accuracy comparison\n",
        "fig = plt.figure()\n",
        "# fig.suptitle('Accuracy comparison - Best Case')\n",
        "ax = fig.add_subplot(111)\n",
        "ax.set_xticklabels(name)\n",
        "plt.boxplot(ACC)\n",
        "plt.ylabel('Accuracy')\n",
        "plt.xlabel('Models')\n",
        "plt.show()"
      ],
      "execution_count": 86,
      "outputs": [
        {
          "output_type": "display_data",
          "data": {
            "text/plain": [
              "<Figure size 720x720 with 1 Axes>"
            ],
            "image/png": "[encoded data removed]"
          },
          "metadata": {
            "tags": []
          }
        }
      ]
    },
    {
      "cell_type": "code",
      "metadata": {
        "id": "d69wY2618VWO",
        "outputId": "a9f2da11-1c6e-4f4b-910e-2c2722f12e92",
        "colab": {
          "base_uri": "https://localhost:8080/",
          "height": 628
        }
      },
      "source": [
        "# AUC comparison\n",
        "fig = plt.figure()\n",
        "# fig.suptitle('AUC comparison - Best Case')\n",
        "ax = fig.add_subplot(111)\n",
        "ax.set_xticklabels(name)\n",
        "plt.boxplot(AUC)\n",
        "plt.ylabel('AUC')\n",
        "plt.xlabel('Models')\n",
        "plt.show()"
      ],
      "execution_count": 87,
      "outputs": [
        {
          "output_type": "display_data",
          "data": {
            "text/plain": [
              "<Figure size 720x720 with 1 Axes>"
            ],
            "image/png": "[encoded data removed]"
          },
          "metadata": {
            "tags": []
          }
        }
      ]
    },
    {
      "cell_type": "code",
      "metadata": {
        "id": "QbaXTYP3w3K9",
        "outputId": "f5097870-df40-4461-eb4b-a7ed80ce4e0f",
        "colab": {
          "base_uri": "https://localhost:8080/",
          "height": 628
        }
      },
      "source": [
        "fig = plt.figure()\n",
        "# fig.suptitle('Mean time trainning each k')\n",
        "plt.bar(name,TimeForTrain, color='#0504aa',alpha=0.7)\n",
        "plt.ylim(min(TimeForTrain), max(TimeForTrain))\n",
        "plt.grid(axis='y', alpha=0.75)\n",
        "plt.ylabel('Time(s)')\n",
        "plt.xlabel('Models')\n",
        "plt.show()"
      ],
      "execution_count": 88,
      "outputs": [
        {
          "output_type": "display_data",
          "data": {
            "text/plain": [
              "<Figure size 720x720 with 1 Axes>"
            ],
            "image/png": "[encoded data removed]"
          },
          "metadata": {
            "tags": []
          }
        }
      ]
    },
    {
      "cell_type": "code",
      "metadata": {
        "id": "Hj0V21fNgo_c",
        "outputId": "fa636e37-e0d3-4115-99e0-9de9171dd132",
        "colab": {
          "base_uri": "https://localhost:8080/",
          "height": 235
        }
      },
      "source": [
        "pd.DataFrame(np.array(TimeForTrain),index=name,columns=['Mean Trainning Time'])"
      ],
      "execution_count": 89,
      "outputs": [
        {
          "output_type": "execute_result",
          "data": {
            "text/plain": [
              "      Mean Trainning Time\n",
              "SVM              0.193155\n",
              "RF               0.266636\n",
              "ABST             0.007261\n",
              "GBST             0.965862\n",
              "BAG              0.086859\n",
              "MLP             58.762246"
            ],
            "text/html": [
              "<div>\n",
              "<style scoped>\n",
              "    .dataframe tbody tr th:only-of-type {\n",
              "        vertical-align: middle;\n",
              "    }\n",
              "\n",
              "    .dataframe tbody tr th {\n",
              "        vertical-align: top;\n",
              "    }\n",
              "\n",
              "    .dataframe thead th {\n",
              "        text-align: right;\n",
              "    }\n",
              "</style>\n",
              "<table border=\"1\" class=\"dataframe\">\n",
              "  <thead>\n",
              "    <tr style=\"text-align: right;\">\n",
              "      <th></th>\n",
              "      <th>Mean Trainning Time</th>\n",
              "    </tr>\n",
              "  </thead>\n",
              "  <tbody>\n",
              "    <tr>\n",
              "      <th>SVM</th>\n",
              "      <td>0.193155</td>\n",
              "    </tr>\n",
              "    <tr>\n",
              "      <th>RF</th>\n",
              "      <td>0.266636</td>\n",
              "    </tr>\n",
              "    <tr>\n",
              "      <th>ABST</th>\n",
              "      <td>0.007261</td>\n",
              "    </tr>\n",
              "    <tr>\n",
              "      <th>GBST</th>\n",
              "      <td>0.965862</td>\n",
              "    </tr>\n",
              "    <tr>\n",
              "      <th>BAG</th>\n",
              "      <td>0.086859</td>\n",
              "    </tr>\n",
              "    <tr>\n",
              "      <th>MLP</th>\n",
              "      <td>58.762246</td>\n",
              "    </tr>\n",
              "  </tbody>\n",
              "</table>\n",
              "</div>"
            ]
          },
          "metadata": {
            "tags": []
          },
          "execution_count": 89
        }
      ]
    },
    {
      "cell_type": "code",
      "metadata": {
        "id": "XznWVVT2ni53",
        "outputId": "85473f2f-c177-4ab8-8b7e-747220f75b02",
        "colab": {
          "base_uri": "https://localhost:8080/",
          "height": 255
        }
      },
      "source": [
        "pd.DataFrame(Params,index=name)"
      ],
      "execution_count": 90,
      "outputs": [
        {
          "output_type": "execute_result",
          "data": {
            "text/plain": [
              "     kernel  gamma  degree             C  n_estimators  min_samples_split  \\\n",
              "SVM     rbf    0.1     3.0  1.000000e+09           NaN                NaN   \n",
              "RF      NaN    NaN     NaN           NaN         128.0                6.0   \n",
              "ABST    NaN    NaN     NaN           NaN           4.0                NaN   \n",
              "GBST    NaN    NaN     NaN           NaN         256.0                9.0   \n",
              "BAG     NaN    NaN     NaN           NaN          32.0                NaN   \n",
              "MLP     NaN    NaN     NaN           NaN           NaN                NaN   \n",
              "\n",
              "      min_samples_leaf  max_features criterion bootstrap  learning_rate  \\\n",
              "SVM                NaN           NaN       NaN       NaN            NaN   \n",
              "RF                 2.0           3.0      gini      True            NaN   \n",
              "ABST               NaN           NaN       NaN       NaN            0.1   \n",
              "GBST               8.0           2.0       NaN       NaN            0.5   \n",
              "BAG                NaN           3.0       NaN     False            NaN   \n",
              "MLP                NaN           NaN       NaN       NaN            NaN   \n",
              "\n",
              "      subsample  max_samples t_activation  n_neurons  n_hidden_layers  epochs  \\\n",
              "SVM         NaN          NaN          NaN        NaN              NaN     NaN   \n",
              "RF          NaN          NaN          NaN        NaN              NaN     NaN   \n",
              "ABST        NaN          NaN          NaN        NaN              NaN     NaN   \n",
              "GBST        0.8          NaN          NaN        NaN              NaN     NaN   \n",
              "BAG         NaN          0.8          NaN        NaN              NaN     NaN   \n",
              "MLP         NaN          NaN         relu      100.0              1.0   350.0   \n",
              "\n",
              "      batch_size  \n",
              "SVM          NaN  \n",
              "RF           NaN  \n",
              "ABST         NaN  \n",
              "GBST         NaN  \n",
              "BAG          NaN  \n",
              "MLP          6.0  "
            ],
            "text/html": [
              "<div>\n",
              "<style scoped>\n",
              "    .dataframe tbody tr th:only-of-type {\n",
              "        vertical-align: middle;\n",
              "    }\n",
              "\n",
              "    .dataframe tbody tr th {\n",
              "        vertical-align: top;\n",
              "    }\n",
              "\n",
              "    .dataframe thead th {\n",
              "        text-align: right;\n",
              "    }\n",
              "</style>\n",
              "<table border=\"1\" class=\"dataframe\">\n",
              "  <thead>\n",
              "    <tr style=\"text-align: right;\">\n",
              "      <th></th>\n",
              "      <th>kernel</th>\n",
              "      <th>gamma</th>\n",
              "      <th>degree</th>\n",
              "      <th>C</th>\n",
              "      <th>n_estimators</th>\n",
              "      <th>min_samples_split</th>\n",
              "      <th>min_samples_leaf</th>\n",
              "      <th>max_features</th>\n",
              "      <th>criterion</th>\n",
              "      <th>bootstrap</th>\n",
              "      <th>learning_rate</th>\n",
              "      <th>subsample</th>\n",
              "      <th>max_samples</th>\n",
              "      <th>t_activation</th>\n",
              "      <th>n_neurons</th>\n",
              "      <th>n_hidden_layers</th>\n",
              "      <th>epochs</th>\n",
              "      <th>batch_size</th>\n",
              "    </tr>\n",
              "  </thead>\n",
              "  <tbody>\n",
              "    <tr>\n",
              "      <th>SVM</th>\n",
              "      <td>rbf</td>\n",
              "      <td>0.1</td>\n",
              "      <td>3.0</td>\n",
              "      <td>1.000000e+09</td>\n",
              "      <td>NaN</td>\n",
              "      <td>NaN</td>\n",
              "      <td>NaN</td>\n",
              "      <td>NaN</td>\n",
              "      <td>NaN</td>\n",
              "      <td>NaN</td>\n",
              "      <td>NaN</td>\n",
              "      <td>NaN</td>\n",
              "      <td>NaN</td>\n",
              "      <td>NaN</td>\n",
              "      <td>NaN</td>\n",
              "      <td>NaN</td>\n",
              "      <td>NaN</td>\n",
              "      <td>NaN</td>\n",
              "    </tr>\n",
              "    <tr>\n",
              "      <th>RF</th>\n",
              "      <td>NaN</td>\n",
              "      <td>NaN</td>\n",
              "      <td>NaN</td>\n",
              "      <td>NaN</td>\n",
              "      <td>128.0</td>\n",
              "      <td>6.0</td>\n",
              "      <td>2.0</td>\n",
              "      <td>3.0</td>\n",
              "      <td>gini</td>\n",
              "      <td>True</td>\n",
              "      <td>NaN</td>\n",
              "      <td>NaN</td>\n",
              "      <td>NaN</td>\n",
              "      <td>NaN</td>\n",
              "      <td>NaN</td>\n",
              "      <td>NaN</td>\n",
              "      <td>NaN</td>\n",
              "      <td>NaN</td>\n",
              "    </tr>\n",
              "    <tr>\n",
              "      <th>ABST</th>\n",
              "      <td>NaN</td>\n",
              "      <td>NaN</td>\n",
              "      <td>NaN</td>\n",
              "      <td>NaN</td>\n",
              "      <td>4.0</td>\n",
              "      <td>NaN</td>\n",
              "      <td>NaN</td>\n",
              "      <td>NaN</td>\n",
              "      <td>NaN</td>\n",
              "      <td>NaN</td>\n",
              "      <td>0.1</td>\n",
              "      <td>NaN</td>\n",
              "      <td>NaN</td>\n",
              "      <td>NaN</td>\n",
              "      <td>NaN</td>\n",
              "      <td>NaN</td>\n",
              "      <td>NaN</td>\n",
              "      <td>NaN</td>\n",
              "    </tr>\n",
              "    <tr>\n",
              "      <th>GBST</th>\n",
              "      <td>NaN</td>\n",
              "      <td>NaN</td>\n",
              "      <td>NaN</td>\n",
              "      <td>NaN</td>\n",
              "      <td>256.0</td>\n",
              "      <td>9.0</td>\n",
              "      <td>8.0</td>\n",
              "      <td>2.0</td>\n",
              "      <td>NaN</td>\n",
              "      <td>NaN</td>\n",
              "      <td>0.5</td>\n",
              "      <td>0.8</td>\n",
              "      <td>NaN</td>\n",
              "      <td>NaN</td>\n",
              "      <td>NaN</td>\n",
              "      <td>NaN</td>\n",
              "      <td>NaN</td>\n",
              "      <td>NaN</td>\n",
              "    </tr>\n",
              "    <tr>\n",
              "      <th>BAG</th>\n",
              "      <td>NaN</td>\n",
              "      <td>NaN</td>\n",
              "      <td>NaN</td>\n",
              "      <td>NaN</td>\n",
              "      <td>32.0</td>\n",
              "      <td>NaN</td>\n",
              "      <td>NaN</td>\n",
              "      <td>3.0</td>\n",
              "      <td>NaN</td>\n",
              "      <td>False</td>\n",
              "      <td>NaN</td>\n",
              "      <td>NaN</td>\n",
              "      <td>0.8</td>\n",
              "      <td>NaN</td>\n",
              "      <td>NaN</td>\n",
              "      <td>NaN</td>\n",
              "      <td>NaN</td>\n",
              "      <td>NaN</td>\n",
              "    </tr>\n",
              "    <tr>\n",
              "      <th>MLP</th>\n",
              "      <td>NaN</td>\n",
              "      <td>NaN</td>\n",
              "      <td>NaN</td>\n",
              "      <td>NaN</td>\n",
              "      <td>NaN</td>\n",
              "      <td>NaN</td>\n",
              "      <td>NaN</td>\n",
              "      <td>NaN</td>\n",
              "      <td>NaN</td>\n",
              "      <td>NaN</td>\n",
              "      <td>NaN</td>\n",
              "      <td>NaN</td>\n",
              "      <td>NaN</td>\n",
              "      <td>relu</td>\n",
              "      <td>100.0</td>\n",
              "      <td>1.0</td>\n",
              "      <td>350.0</td>\n",
              "      <td>6.0</td>\n",
              "    </tr>\n",
              "  </tbody>\n",
              "</table>\n",
              "</div>"
            ]
          },
          "metadata": {
            "tags": []
          },
          "execution_count": 90
        }
      ]
    },
    {
      "cell_type": "markdown",
      "metadata": {
        "id": "xWvmp2iqlaOv"
      },
      "source": [
        "# Generate Spreadsheet with results\n"
      ]
    },
    {
      "cell_type": "code",
      "metadata": {
        "id": "YQsuZ3enlhXO"
      },
      "source": [
        "if GEN_SHEET==1:\n",
        "  Best_of_each_case.to_excel(r'ExcelFileResults/CLASSIFICATION.xlsx', index = True, header=True)"
      ],
      "execution_count": 91,
      "outputs": []
    },
    {
      "cell_type": "code",
      "metadata": {
        "id": "VOnPQh1e1se-",
        "outputId": "0eb84bf8-23cf-48f7-91dd-79a523ba5882",
        "colab": {
          "base_uri": "https://localhost:8080/"
        }
      },
      "source": [
        "Params"
      ],
      "execution_count": 92,
      "outputs": [
        {
          "output_type": "execute_result",
          "data": {
            "text/plain": [
              "[{'kernel': 'rbf', 'gamma': 0.1, 'degree': 3, 'C': 1000000000.0},\n",
              " {'n_estimators': 128,\n",
              "  'min_samples_split': 6,\n",
              "  'min_samples_leaf': 2,\n",
              "  'max_features': 3,\n",
              "  'criterion': 'gini',\n",
              "  'bootstrap': True},\n",
              " {'n_estimators': 4, 'learning_rate': 0.1},\n",
              " {'subsample': 0.8,\n",
              "  'n_estimators': 256,\n",
              "  'min_samples_split': 9,\n",
              "  'min_samples_leaf': 8,\n",
              "  'max_features': 2,\n",
              "  'learning_rate': 0.5},\n",
              " {'n_estimators': 32,\n",
              "  'max_samples': 0.8,\n",
              "  'max_features': 3,\n",
              "  'bootstrap': False},\n",
              " {'t_activation': 'relu',\n",
              "  'n_neurons': 100,\n",
              "  'n_hidden_layers': 1,\n",
              "  'epochs': 350,\n",
              "  'batch_size': 6}]"
            ]
          },
          "metadata": {
            "tags": []
          },
          "execution_count": 92
        }
      ]
    }
  ]
}